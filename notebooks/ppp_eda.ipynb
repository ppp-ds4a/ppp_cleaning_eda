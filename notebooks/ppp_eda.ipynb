{
 "cells": [
  {
   "cell_type": "code",
   "execution_count": 21,
   "metadata": {},
   "outputs": [],
   "source": [
    "import pandas as pd\n",
    "import numpy as np"
   ]
  },
  {
   "cell_type": "code",
   "execution_count": 7,
   "metadata": {},
   "outputs": [],
   "source": [
    "PATH = \"../data/under150k.csv\"\n",
    "PATH2 = \"../data/over150k.csv\"\n",
    "\n",
    "un150 = pd.read_csv(PATH, index_col=\"Unnamed: 0\")\n",
    "ov150 = pd.read_csv(PATH2, index_col=\"Unnamed: 0\")"
   ]
  },
  {
   "cell_type": "code",
   "execution_count": 12,
   "metadata": {},
   "outputs": [],
   "source": [
    "un150 = un150[[\"LoanAmount\", \"Zip\", \"State\", \"NAICSCode\", \"BusinessType\", \"JobsReported\", \"DateApproved\", \"2017 NAICS Title\"]]"
   ]
  },
  {
   "cell_type": "code",
   "execution_count": 10,
   "metadata": {},
   "outputs": [
    {
     "data": {
      "text/html": [
       "<div>\n",
       "<style scoped>\n",
       "    .dataframe tbody tr th:only-of-type {\n",
       "        vertical-align: middle;\n",
       "    }\n",
       "\n",
       "    .dataframe tbody tr th {\n",
       "        vertical-align: top;\n",
       "    }\n",
       "\n",
       "    .dataframe thead th {\n",
       "        text-align: right;\n",
       "    }\n",
       "</style>\n",
       "<table border=\"1\" class=\"dataframe\">\n",
       "  <thead>\n",
       "    <tr style=\"text-align: right;\">\n",
       "      <th></th>\n",
       "      <th>LoanAmount</th>\n",
       "      <th>Zip</th>\n",
       "      <th>State</th>\n",
       "      <th>NAICSCode</th>\n",
       "      <th>BusinessType</th>\n",
       "      <th>JobsReported</th>\n",
       "      <th>DateApproved</th>\n",
       "      <th>2017 NAICS Title</th>\n",
       "    </tr>\n",
       "  </thead>\n",
       "  <tbody>\n",
       "    <tr>\n",
       "      <th>13773</th>\n",
       "      <td>a $5-10 million</td>\n",
       "      <td>85018.0</td>\n",
       "      <td>AZ</td>\n",
       "      <td>621111.0</td>\n",
       "      <td>Limited  Liability Company(LLC)</td>\n",
       "      <td>438.0</td>\n",
       "      <td>04/27/2020</td>\n",
       "      <td>Offices of Physicians (except Mental Health Sp...</td>\n",
       "    </tr>\n",
       "    <tr>\n",
       "      <th>13774</th>\n",
       "      <td>a $5-10 million</td>\n",
       "      <td>85205.0</td>\n",
       "      <td>AZ</td>\n",
       "      <td>524130.0</td>\n",
       "      <td>Corporation</td>\n",
       "      <td>2.0</td>\n",
       "      <td>04/28/2020</td>\n",
       "      <td>Reinsurance Carriers</td>\n",
       "    </tr>\n",
       "    <tr>\n",
       "      <th>13775</th>\n",
       "      <td>a $5-10 million</td>\n",
       "      <td>85203.0</td>\n",
       "      <td>AZ</td>\n",
       "      <td>523999.0</td>\n",
       "      <td>Subchapter S Corporation</td>\n",
       "      <td>471.0</td>\n",
       "      <td>04/27/2020</td>\n",
       "      <td>Miscellaneous Financial Investment Activities</td>\n",
       "    </tr>\n",
       "    <tr>\n",
       "      <th>13776</th>\n",
       "      <td>a $5-10 million</td>\n",
       "      <td>85711.0</td>\n",
       "      <td>AZ</td>\n",
       "      <td>621111.0</td>\n",
       "      <td>Corporation</td>\n",
       "      <td>500.0</td>\n",
       "      <td>04/29/2020</td>\n",
       "      <td>Offices of Physicians (except Mental Health Sp...</td>\n",
       "    </tr>\n",
       "    <tr>\n",
       "      <th>13777</th>\n",
       "      <td>a $5-10 million</td>\n",
       "      <td>85016.0</td>\n",
       "      <td>AZ</td>\n",
       "      <td>721110.0</td>\n",
       "      <td>Partnership</td>\n",
       "      <td>0.0</td>\n",
       "      <td>04/30/2020</td>\n",
       "      <td>Hotels (except Casino Hotels) and Motels</td>\n",
       "    </tr>\n",
       "    <tr>\n",
       "      <th>...</th>\n",
       "      <td>...</td>\n",
       "      <td>...</td>\n",
       "      <td>...</td>\n",
       "      <td>...</td>\n",
       "      <td>...</td>\n",
       "      <td>...</td>\n",
       "      <td>...</td>\n",
       "      <td>...</td>\n",
       "    </tr>\n",
       "    <tr>\n",
       "      <th>650758</th>\n",
       "      <td>e $150,000-350,000</td>\n",
       "      <td>53074.0</td>\n",
       "      <td>WI</td>\n",
       "      <td>813920.0</td>\n",
       "      <td>Subchapter S Corporation</td>\n",
       "      <td>12.0</td>\n",
       "      <td>04/08/2020</td>\n",
       "      <td>Professional Organizations</td>\n",
       "    </tr>\n",
       "    <tr>\n",
       "      <th>650759</th>\n",
       "      <td>e $150,000-350,000</td>\n",
       "      <td>53051.0</td>\n",
       "      <td>WI</td>\n",
       "      <td>611110.0</td>\n",
       "      <td>Limited  Liability Company(LLC)</td>\n",
       "      <td>65.0</td>\n",
       "      <td>05/03/2020</td>\n",
       "      <td>Elementary and Secondary Schools</td>\n",
       "    </tr>\n",
       "    <tr>\n",
       "      <th>650760</th>\n",
       "      <td>e $150,000-350,000</td>\n",
       "      <td>54126.0</td>\n",
       "      <td>WI</td>\n",
       "      <td>813110.0</td>\n",
       "      <td>Non-Profit Organization</td>\n",
       "      <td>29.0</td>\n",
       "      <td>04/09/2020</td>\n",
       "      <td>Religious Organizations</td>\n",
       "    </tr>\n",
       "    <tr>\n",
       "      <th>650761</th>\n",
       "      <td>e $150,000-350,000</td>\n",
       "      <td>53168.0</td>\n",
       "      <td>WI</td>\n",
       "      <td>238110.0</td>\n",
       "      <td>Limited  Liability Company(LLC)</td>\n",
       "      <td>21.0</td>\n",
       "      <td>04/08/2020</td>\n",
       "      <td>Poured Concrete Foundation and Structure Contr...</td>\n",
       "    </tr>\n",
       "    <tr>\n",
       "      <th>650762</th>\n",
       "      <td>e $150,000-350,000</td>\n",
       "      <td>54639.0</td>\n",
       "      <td>WI</td>\n",
       "      <td>447110.0</td>\n",
       "      <td>Corporation</td>\n",
       "      <td>40.0</td>\n",
       "      <td>04/04/2020</td>\n",
       "      <td>Gasoline Stations with Convenience Stores</td>\n",
       "    </tr>\n",
       "  </tbody>\n",
       "</table>\n",
       "<p>128376 rows × 8 columns</p>\n",
       "</div>"
      ],
      "text/plain": [
       "                LoanAmount      Zip State  NAICSCode  \\\n",
       "13773      a $5-10 million  85018.0    AZ   621111.0   \n",
       "13774      a $5-10 million  85205.0    AZ   524130.0   \n",
       "13775      a $5-10 million  85203.0    AZ   523999.0   \n",
       "13776      a $5-10 million  85711.0    AZ   621111.0   \n",
       "13777      a $5-10 million  85016.0    AZ   721110.0   \n",
       "...                    ...      ...   ...        ...   \n",
       "650758  e $150,000-350,000  53074.0    WI   813920.0   \n",
       "650759  e $150,000-350,000  53051.0    WI   611110.0   \n",
       "650760  e $150,000-350,000  54126.0    WI   813110.0   \n",
       "650761  e $150,000-350,000  53168.0    WI   238110.0   \n",
       "650762  e $150,000-350,000  54639.0    WI   447110.0   \n",
       "\n",
       "                           BusinessType  JobsReported DateApproved  \\\n",
       "13773   Limited  Liability Company(LLC)         438.0   04/27/2020   \n",
       "13774                       Corporation           2.0   04/28/2020   \n",
       "13775          Subchapter S Corporation         471.0   04/27/2020   \n",
       "13776                       Corporation         500.0   04/29/2020   \n",
       "13777                       Partnership           0.0   04/30/2020   \n",
       "...                                 ...           ...          ...   \n",
       "650758         Subchapter S Corporation          12.0   04/08/2020   \n",
       "650759  Limited  Liability Company(LLC)          65.0   05/03/2020   \n",
       "650760          Non-Profit Organization          29.0   04/09/2020   \n",
       "650761  Limited  Liability Company(LLC)          21.0   04/08/2020   \n",
       "650762                      Corporation          40.0   04/04/2020   \n",
       "\n",
       "                                         2017 NAICS Title  \n",
       "13773   Offices of Physicians (except Mental Health Sp...  \n",
       "13774                               Reinsurance Carriers   \n",
       "13775      Miscellaneous Financial Investment Activities   \n",
       "13776   Offices of Physicians (except Mental Health Sp...  \n",
       "13777           Hotels (except Casino Hotels) and Motels   \n",
       "...                                                   ...  \n",
       "650758                        Professional Organizations   \n",
       "650759                  Elementary and Secondary Schools   \n",
       "650760                           Religious Organizations   \n",
       "650761  Poured Concrete Foundation and Structure Contr...  \n",
       "650762         Gasoline Stations with Convenience Stores   \n",
       "\n",
       "[128376 rows x 8 columns]"
      ]
     },
     "execution_count": 10,
     "metadata": {},
     "output_type": "execute_result"
    }
   ],
   "source": [
    "ov150"
   ]
  },
  {
   "cell_type": "code",
   "execution_count": 14,
   "metadata": {},
   "outputs": [],
   "source": [
    "df = pd.concat([un150, ov150], axis=0)"
   ]
  },
  {
   "cell_type": "code",
   "execution_count": 15,
   "metadata": {},
   "outputs": [
    {
     "data": {
      "text/plain": [
       "(939014, 8)"
      ]
     },
     "execution_count": 15,
     "metadata": {},
     "output_type": "execute_result"
    }
   ],
   "source": [
    "# Total Loans\n",
    "df.shape"
   ]
  },
  {
   "cell_type": "code",
   "execution_count": 16,
   "metadata": {},
   "outputs": [
    {
     "data": {
      "text/plain": [
       "0.00284499075100934"
      ]
     },
     "execution_count": 16,
     "metadata": {},
     "output_type": "execute_result"
    }
   ],
   "source": [
    "# Total number of loans / total population\n",
    "# population = 330,058,718\n",
    "pop = 330058718\n",
    "\n",
    "df.shape[0]/pop"
   ]
  },
  {
   "cell_type": "code",
   "execution_count": 20,
   "metadata": {},
   "outputs": [
    {
     "data": {
      "text/html": [
       "<div>\n",
       "<style scoped>\n",
       "    .dataframe tbody tr th:only-of-type {\n",
       "        vertical-align: middle;\n",
       "    }\n",
       "\n",
       "    .dataframe tbody tr th {\n",
       "        vertical-align: top;\n",
       "    }\n",
       "\n",
       "    .dataframe thead th {\n",
       "        text-align: right;\n",
       "    }\n",
       "</style>\n",
       "<table border=\"1\" class=\"dataframe\">\n",
       "  <thead>\n",
       "    <tr style=\"text-align: right;\">\n",
       "      <th></th>\n",
       "      <th>Zip</th>\n",
       "      <th>State</th>\n",
       "      <th>NAICSCode</th>\n",
       "      <th>BusinessType</th>\n",
       "      <th>JobsReported</th>\n",
       "      <th>DateApproved</th>\n",
       "      <th>2017 NAICS Title</th>\n",
       "    </tr>\n",
       "    <tr>\n",
       "      <th>LoanAmount</th>\n",
       "      <th></th>\n",
       "      <th></th>\n",
       "      <th></th>\n",
       "      <th></th>\n",
       "      <th></th>\n",
       "      <th></th>\n",
       "      <th></th>\n",
       "    </tr>\n",
       "  </thead>\n",
       "  <tbody>\n",
       "    <tr>\n",
       "      <th>a $5-10 million</th>\n",
       "      <td>985</td>\n",
       "      <td>985</td>\n",
       "      <td>985</td>\n",
       "      <td>983</td>\n",
       "      <td>937</td>\n",
       "      <td>985</td>\n",
       "      <td>983</td>\n",
       "    </tr>\n",
       "    <tr>\n",
       "      <th>b $2-5 million</th>\n",
       "      <td>5034</td>\n",
       "      <td>5034</td>\n",
       "      <td>5034</td>\n",
       "      <td>5013</td>\n",
       "      <td>4706</td>\n",
       "      <td>5034</td>\n",
       "      <td>5014</td>\n",
       "    </tr>\n",
       "    <tr>\n",
       "      <th>c $1-2 million</th>\n",
       "      <td>10839</td>\n",
       "      <td>10839</td>\n",
       "      <td>10839</td>\n",
       "      <td>10771</td>\n",
       "      <td>10142</td>\n",
       "      <td>10839</td>\n",
       "      <td>10804</td>\n",
       "    </tr>\n",
       "    <tr>\n",
       "      <th>d $350,000-1 million</th>\n",
       "      <td>39119</td>\n",
       "      <td>39119</td>\n",
       "      <td>39119</td>\n",
       "      <td>38960</td>\n",
       "      <td>36866</td>\n",
       "      <td>39119</td>\n",
       "      <td>38921</td>\n",
       "    </tr>\n",
       "    <tr>\n",
       "      <th>e $150,000-350,000</th>\n",
       "      <td>72399</td>\n",
       "      <td>72399</td>\n",
       "      <td>72399</td>\n",
       "      <td>72207</td>\n",
       "      <td>68411</td>\n",
       "      <td>72399</td>\n",
       "      <td>71727</td>\n",
       "    </tr>\n",
       "  </tbody>\n",
       "</table>\n",
       "</div>"
      ],
      "text/plain": [
       "                        Zip  State  NAICSCode  BusinessType  JobsReported  \\\n",
       "LoanAmount                                                                  \n",
       "a $5-10 million         985    985        985           983           937   \n",
       "b $2-5 million         5034   5034       5034          5013          4706   \n",
       "c $1-2 million        10839  10839      10839         10771         10142   \n",
       "d $350,000-1 million  39119  39119      39119         38960         36866   \n",
       "e $150,000-350,000    72399  72399      72399         72207         68411   \n",
       "\n",
       "                      DateApproved  2017 NAICS Title  \n",
       "LoanAmount                                            \n",
       "a $5-10 million                985               983  \n",
       "b $2-5 million                5034              5014  \n",
       "c $1-2 million               10839             10804  \n",
       "d $350,000-1 million         39119             38921  \n",
       "e $150,000-350,000           72399             71727  "
      ]
     },
     "execution_count": 20,
     "metadata": {},
     "output_type": "execute_result"
    }
   ],
   "source": [
    "# Count loans then multiply upper and lower bounds by amounts\n",
    "ov150.groupby(\"LoanAmount\").count()"
   ]
  },
  {
   "cell_type": "code",
   "execution_count": 31,
   "metadata": {},
   "outputs": [
    {
     "name": "stdout",
     "output_type": "stream",
     "text": [
      "112,549,037,031.92502\n"
     ]
    }
   ],
   "source": [
    "# Total Fund Loaned\n",
    "\n",
    "total_under_150_loaned = un150[\"LoanAmount\"].sum()\n",
    "cat_a = np.mean([10000000, 5000000]) * 985\n",
    "cat_b = np.mean([5000000, 2000000]) * 5034\n",
    "cat_c = np.mean([2000000, 1000000]) * 10839\n",
    "cat_d = np.mean([350000, 1000000]) * 39119\n",
    "cat_e = np.mean([150000, 350000]) * 72399\n",
    "\n",
    "total_amount = total_under_150_loaned + cat_a + cat_b + cat_c + cat_d + cat_e\n",
    "print(f\"{total_amount:,}\")"
   ]
  },
  {
   "cell_type": "code",
   "execution_count": 32,
   "metadata": {},
   "outputs": [
    {
     "data": {
      "text/plain": [
       "340.9970132403078"
      ]
     },
     "execution_count": 32,
     "metadata": {},
     "output_type": "execute_result"
    }
   ],
   "source": [
    "# Total Funds / Population\n",
    "total_amount/pop"
   ]
  },
  {
   "cell_type": "code",
   "execution_count": 37,
   "metadata": {},
   "outputs": [
    {
     "data": {
      "text/plain": [
       "10152412.0"
      ]
     },
     "execution_count": 37,
     "metadata": {},
     "output_type": "execute_result"
    }
   ],
   "source": [
    "# Total Number of Jobs Expected to Be Saved by PPP Loans (Based on PPP Loan Applications)\n",
    "\n",
    "jobs_reported = df[\"JobsReported\"].sum()\n",
    "jobs_reported"
   ]
  },
  {
   "cell_type": "code",
   "execution_count": 38,
   "metadata": {},
   "outputs": [
    {
     "data": {
      "text/plain": [
       "0.030759411723825455"
      ]
     },
     "execution_count": 38,
     "metadata": {},
     "output_type": "execute_result"
    }
   ],
   "source": [
    "# Total Number of Jobs Expected to be Saved / Total Population\n",
    "\n",
    "jobs_reported/pop"
   ]
  },
  {
   "cell_type": "code",
   "execution_count": null,
   "metadata": {},
   "outputs": [],
   "source": []
  }
 ],
 "metadata": {
  "kernelspec": {
   "display_name": "Python 3",
   "language": "python",
   "name": "python3"
  },
  "language_info": {
   "codemirror_mode": {
    "name": "ipython",
    "version": 3
   },
   "file_extension": ".py",
   "mimetype": "text/x-python",
   "name": "python",
   "nbconvert_exporter": "python",
   "pygments_lexer": "ipython3",
   "version": "3.8.2"
  }
 },
 "nbformat": 4,
 "nbformat_minor": 4
}
